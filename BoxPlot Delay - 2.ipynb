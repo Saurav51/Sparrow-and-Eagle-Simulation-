{
 "cells": [
  {
   "cell_type": "code",
   "execution_count": 1,
   "metadata": {},
   "outputs": [
    {
     "data": {
      "text/plain": [
       "[<TarInfo 'CCc.tr' at 0x226238591e8>]"
      ]
     },
     "execution_count": 1,
     "metadata": {},
     "output_type": "execute_result"
    }
   ],
   "source": [
    "import  tarfile\n",
    "tar = tarfile.open(\"C:\\\\Users\\\\HP\\\\Desktop\\\\Capstone\\\\CCc.tr\\\\CCc.tr.tar\")\n",
    "tar.getmembers()"
   ]
  },
  {
   "cell_type": "code",
   "execution_count": 2,
   "metadata": {},
   "outputs": [],
   "source": [
    "for member in tar.getmembers():\n",
    "    f=tar.extractfile(member)\n",
    "    content=f.readlines()"
   ]
  },
  {
   "cell_type": "code",
   "execution_count": 3,
   "metadata": {},
   "outputs": [
    {
     "data": {
      "text/plain": [
       "21030"
      ]
     },
     "execution_count": 3,
     "metadata": {},
     "output_type": "execute_result"
    }
   ],
   "source": [
    "type(content)\n",
    "len(content)"
   ]
  },
  {
   "cell_type": "code",
   "execution_count": 4,
   "metadata": {},
   "outputs": [],
   "source": [
    "CC = []\n",
    "for i in content:\n",
    "    #print(type(i.decode().split()), i.decode().split())\n",
    "    arr = [float(j) for j in i.decode().split()]\n",
    "    val = max(arr[3:])\n",
    "    CC.append(val)\n",
    "    #print(\"\\n\", arr, val)\n",
    "    #print(\"\\n\")"
   ]
  },
  {
   "cell_type": "code",
   "execution_count": 5,
   "metadata": {},
   "outputs": [
    {
     "name": "stdout",
     "output_type": "stream",
     "text": [
      "21030\n"
     ]
    }
   ],
   "source": [
    "print(len(CC))"
   ]
  },
  {
   "cell_type": "code",
   "execution_count": 6,
   "metadata": {},
   "outputs": [
    {
     "data": {
      "text/plain": [
       "[<TarInfo 'YH.tr' at 0x2262789d458>]"
      ]
     },
     "execution_count": 6,
     "metadata": {},
     "output_type": "execute_result"
    }
   ],
   "source": [
    "import  tarfile\n",
    "tar = tarfile.open(\"C:\\\\Users\\\\HP\\\\Desktop\\\\Capstone\\\\YH.tr\\\\YH.tr.tar\")\n",
    "tar.getmembers()"
   ]
  },
  {
   "cell_type": "code",
   "execution_count": 7,
   "metadata": {},
   "outputs": [],
   "source": [
    "for member in tar.getmembers():\n",
    "    f=tar.extractfile(member)\n",
    "    content=f.readlines()"
   ]
  },
  {
   "cell_type": "code",
   "execution_count": 8,
   "metadata": {},
   "outputs": [],
   "source": [
    "yahoo = []\n",
    "for i in content:\n",
    "    #print(type(i.decode().split()), i.decode().split())\n",
    "    arr = [float(j) for j in i.decode().split()]\n",
    "    val = max(arr[3:])\n",
    "    yahoo.append(val)\n",
    "    #print(\"\\n\", arr, val)\n",
    "    #print(\"\\n\")"
   ]
  },
  {
   "cell_type": "code",
   "execution_count": 9,
   "metadata": {},
   "outputs": [
    {
     "name": "stdout",
     "output_type": "stream",
     "text": [
      "24262\n"
     ]
    }
   ],
   "source": [
    "print(len(yahoo))"
   ]
  },
  {
   "cell_type": "code",
   "execution_count": 10,
   "metadata": {},
   "outputs": [],
   "source": [
    "import numpy as np \n",
    "import pandas as pd \n",
    "import matplotlib.pyplot as plt "
   ]
  },
  {
   "cell_type": "code",
   "execution_count": 11,
   "metadata": {},
   "outputs": [
    {
     "data": {
      "text/plain": [
       "[Text(0, 0, 'Yahoo'), Text(0, 0, 'Cloudera')]"
      ]
     },
     "execution_count": 11,
     "metadata": {},
     "output_type": "execute_result"
    },
    {
     "data": {
      "image/png": "[encoded data removed]",
      "text/plain": [
       "<Figure size 432x288 with 1 Axes>"
      ]
     },
     "metadata": {
      "needs_background": "light"
     },
     "output_type": "display_data"
    }
   ],
   "source": [
    "df = pd.read_csv(\"Sparrow_Yahoo_2.csv\")\n",
    "arr9 = list(df[\"Sparrow on Yahoo at Probe Ratio 2\"])\n",
    "\n",
    "arr9 = [yahoo[i]-arr9[i] for i in range(len(yahoo))]\n",
    "\n",
    "\n",
    "df = pd.read_csv(\"Sparrow_Cloudera.csv\")\n",
    "arr10 = list(df[\"Sparrow on Cloudera\"])\n",
    "\n",
    "arr10 = [CC[i]-arr10[i] for i in range(len(CC))]\n",
    "\n",
    "my_dict = {'Yahoo': arr9, 'Cloudera': arr10}\n",
    "fig, ax = plt.subplots()\n",
    "plt.ylabel(\"Job Execution Time of Sparrow\")\n",
    "ax.boxplot(my_dict.values())\n",
    "ax.set_xticklabels(my_dict.keys())"
   ]
  },
  {
   "cell_type": "code",
   "execution_count": null,
   "metadata": {},
   "outputs": [],
   "source": []
  }
 ],
 "metadata": {
  "kernelspec": {
   "display_name": "Python 3",
   "language": "python",
   "name": "python3"
  },
  "language_info": {
   "codemirror_mode": {
    "name": "ipython",
    "version": 3
   },
   "file_extension": ".py",
   "mimetype": "text/x-python",
   "name": "python",
   "nbconvert_exporter": "python",
   "pygments_lexer": "ipython3",
   "version": "3.7.8"
  }
 },
 "nbformat": 4,
 "nbformat_minor": 4
}
