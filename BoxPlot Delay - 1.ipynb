{
 "cells": [
  {
   "cell_type": "code",
   "execution_count": 1,
   "metadata": {},
   "outputs": [
    {
     "data": {
      "text/plain": [
       "[<TarInfo 'YH.tr' at 0x2008a4781e8>]"
      ]
     },
     "execution_count": 1,
     "metadata": {},
     "output_type": "execute_result"
    }
   ],
   "source": [
    "import  tarfile\n",
    "tar = tarfile.open(\"C:\\\\Users\\\\HP\\\\Desktop\\\\Capstone\\\\YH.tr\\\\YH.tr.tar\")\n",
    "tar.getmembers()"
   ]
  },
  {
   "cell_type": "code",
   "execution_count": 2,
   "metadata": {},
   "outputs": [],
   "source": [
    "for member in tar.getmembers():\n",
    "    f=tar.extractfile(member)\n",
    "    content=f.readlines()"
   ]
  },
  {
   "cell_type": "code",
   "execution_count": 3,
   "metadata": {},
   "outputs": [
    {
     "data": {
      "text/plain": [
       "24262"
      ]
     },
     "execution_count": 3,
     "metadata": {},
     "output_type": "execute_result"
    }
   ],
   "source": [
    "type(content)\n",
    "len(content)"
   ]
  },
  {
   "cell_type": "code",
   "execution_count": 4,
   "metadata": {},
   "outputs": [],
   "source": [
    "yahoo = []\n",
    "for i in content:\n",
    "    #print(type(i.decode().split()), i.decode().split())\n",
    "    arr = [float(j) for j in i.decode().split()]\n",
    "    val = max(arr[3:])\n",
    "    yahoo.append(val)\n",
    "    #print(\"\\n\", arr, val)\n",
    "    #print(\"\\n\")"
   ]
  },
  {
   "cell_type": "code",
   "execution_count": 5,
   "metadata": {},
   "outputs": [
    {
     "name": "stdout",
     "output_type": "stream",
     "text": [
      "24262\n"
     ]
    }
   ],
   "source": [
    "print(len(yahoo))"
   ]
  },
  {
   "cell_type": "code",
   "execution_count": 6,
   "metadata": {},
   "outputs": [],
   "source": [
    "import numpy as np \n",
    "import pandas as pd \n",
    "import matplotlib.pyplot as plt "
   ]
  },
  {
   "cell_type": "code",
   "execution_count": 7,
   "metadata": {},
   "outputs": [
    {
     "name": "stdout",
     "output_type": "stream",
     "text": [
      "24262\n",
      "24262\n"
     ]
    }
   ],
   "source": [
    "df = pd.read_csv(\"Sparrow_Yahoo_2.csv\")\n",
    "arr2 = list(df[\"Sparrow on Yahoo at Probe Ratio 2\"])\n",
    "#print(arr2)\n",
    "\n",
    "#arr2 = [(yahoo[i] - arr2[i]) for i in range(len(yahoo))]\n",
    "print(len(arr2))\n",
    "print(len(yahoo))"
   ]
  },
  {
   "cell_type": "code",
   "execution_count": 8,
   "metadata": {},
   "outputs": [
    {
     "data": {
      "text/plain": [
       "[Text(0, 0, 'PR=2'),\n",
       " Text(0, 0, 'PR=3'),\n",
       " Text(0, 0, 'PR=4'),\n",
       " Text(0, 0, 'PR=5'),\n",
       " Text(0, 0, 'PR=6'),\n",
       " Text(0, 0, 'PR=7'),\n",
       " Text(0, 0, 'PR=8')]"
      ]
     },
     "execution_count": 8,
     "metadata": {},
     "output_type": "execute_result"
    },
    {
     "data": {
      "image/png": "[encoded data removed]",
      "text/plain": [
       "<Figure size 432x288 with 1 Axes>"
      ]
     },
     "metadata": {
      "needs_background": "light"
     },
     "output_type": "display_data"
    }
   ],
   "source": [
    "df = pd.read_csv(\"Sparrow_Yahoo_2.csv\")\n",
    "arr2 = list(df[\"Sparrow on Yahoo at Probe Ratio 2\"])\n",
    "\n",
    "arr2 = [(yahoo[i] - arr2[i]) for i in range(len(yahoo))]\n",
    "\n",
    "df = pd.read_csv(\"Sparrow_Yahoo_3.csv\")\n",
    "arr3 = list(df[\"Sparrow on Yahoo at Probe Ratio 3\"])\n",
    "\n",
    "arr2 = [(yahoo[i] - arr3[i]) for i in range(len(yahoo))]\n",
    "\n",
    "df = pd.read_csv(\"Sparrow_Yahoo_4.csv\")\n",
    "arr4 = list(df[\"Sparrow on Yahoo at Probe Ratio 4\"])\n",
    "\n",
    "arr2 = [(yahoo[i] - arr4[i]) for i in range(len(yahoo))]\n",
    "\n",
    "df = pd.read_csv(\"Sparrow_Yahoo_5.csv\")\n",
    "arr5 = list(df[\"Sparrow on Yahoo at Probe Ratio 5\"])\n",
    "\n",
    "arr2 = [(yahoo[i] - arr5[i]) for i in range(len(yahoo))]\n",
    "\n",
    "df = pd.read_csv(\"Sparrow_Yahoo_6.csv\")\n",
    "arr6 = list(df[\"Sparrow on Yahoo at Probe Ratio 6\"])\n",
    "\n",
    "arr2 = [(yahoo[i] - arr6[i]) for i in range(len(yahoo))]\n",
    "\n",
    "df = pd.read_csv(\"Sparrow_Yahoo_7.csv\")\n",
    "arr7 = list(df[\"Sparrow on Yahoo at Probe Ratio 7\"])\n",
    "\n",
    "arr2 = [(yahoo[i] - arr7[i]) for i in range(len(yahoo))]\n",
    "\n",
    "df = pd.read_csv(\"Sparrow_Yahoo_8.csv\")\n",
    "arr8 = list(df[\"Sparrow on Yahoo at Probe Ratio 8\"])\n",
    "\n",
    "arr2 = [(yahoo[i] - arr8[i]) for i in range(len(yahoo))]\n",
    "\n",
    "my_dict = {'PR=2': arr2, 'PR=3': arr3,'PR=3': arr3, 'PR=4': arr4, 'PR=5': arr5, 'PR=6': arr6, 'PR=7': arr7, 'PR=8': arr8}\n",
    "fig, ax = plt.subplots()\n",
    "plt.ylabel(\"Delay in Job Execution of Sparrow\")\n",
    "ax.boxplot(my_dict.values())\n",
    "ax.set_xticklabels(my_dict.keys())"
   ]
  },
  {
   "cell_type": "code",
   "execution_count": null,
   "metadata": {},
   "outputs": [],
   "source": []
  }
 ],
 "metadata": {
  "kernelspec": {
   "display_name": "Python 3",
   "language": "python",
   "name": "python3"
  },
  "language_info": {
   "codemirror_mode": {
    "name": "ipython",
    "version": 3
   },
   "file_extension": ".py",
   "mimetype": "text/x-python",
   "name": "python",
   "nbconvert_exporter": "python",
   "pygments_lexer": "ipython3",
   "version": "3.7.8"
  }
 },
 "nbformat": 4,
 "nbformat_minor": 4
}
